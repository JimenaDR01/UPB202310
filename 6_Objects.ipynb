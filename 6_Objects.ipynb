{
 "cells": [
  {
   "cell_type": "code",
   "execution_count": 1,
   "id": "fef37f24",
   "metadata": {},
   "outputs": [],
   "source": [
    "class Salchipapa():\n",
    "    # class variable\n",
    "    type_of_food = \"Junk Food\"\n",
    "    # methods\n",
    "    def __init__(self, name, price):\n",
    "        # instance variable\n",
    "        self.name = name\n",
    "        self.price = price\n",
    "        self.ingredients = []\n",
    "    def add_ingredient(self, ingredient):\n",
    "        self.ingredients.append(ingredient)"
   ]
  },
  {
   "cell_type": "code",
   "execution_count": 2,
   "id": "b9a96ba9",
   "metadata": {},
   "outputs": [],
   "source": [
    "ranchera_sencilla = Salchipapa(\"Ranchera Sencilla\", 15000)\n",
    "ranchera_especial = Salchipapa(\"Ranchera Especial\", 20000)"
   ]
  },
  {
   "cell_type": "code",
   "execution_count": 3,
   "id": "9ca8b7de",
   "metadata": {},
   "outputs": [
    {
     "name": "stdout",
     "output_type": "stream",
     "text": [
      "[]\n"
     ]
    }
   ],
   "source": [
    "print(ranchera_sencilla.ingredients)"
   ]
  },
  {
   "cell_type": "code",
   "execution_count": 4,
   "id": "57a8e67c",
   "metadata": {},
   "outputs": [],
   "source": [
    "ranchera_sencilla.add_ingredient(\"Salchicha Ranchera\")\n",
    "ranchera_sencilla.add_ingredient(\"Papita\")\n",
    "ranchera_sencilla.add_ingredient(\"Queso\")\n",
    "ranchera_sencilla.add_ingredient(\"Salsa BBQ\")"
   ]
  },
  {
   "cell_type": "code",
   "execution_count": 5,
   "id": "1162b5b2",
   "metadata": {},
   "outputs": [
    {
     "name": "stdout",
     "output_type": "stream",
     "text": [
      "Junk Food\n",
      "Junk Food\n"
     ]
    }
   ],
   "source": [
    "print(ranchera_sencilla.type_of_food)\n",
    "print(ranchera_especial.type_of_food)"
   ]
  },
  {
   "cell_type": "code",
   "execution_count": 6,
   "id": "d0806d0e",
   "metadata": {},
   "outputs": [
    {
     "name": "stdout",
     "output_type": "stream",
     "text": [
      "['Salchicha Ranchera', 'Papita', 'Queso', 'Salsa BBQ']\n",
      "[]\n"
     ]
    }
   ],
   "source": [
    "print(ranchera_sencilla.ingredients)\n",
    "print(ranchera_especial.ingredients)"
   ]
  },
  {
   "cell_type": "code",
   "execution_count": 7,
   "id": "3b3300c5",
   "metadata": {},
   "outputs": [
    {
     "name": "stdout",
     "output_type": "stream",
     "text": [
      "Ranchera Sencilla 15000\n",
      "Ranchera Especial 20000\n"
     ]
    }
   ],
   "source": [
    "print(ranchera_sencilla.name, ranchera_sencilla.price)\n",
    "print(ranchera_especial.name, ranchera_especial.price)"
   ]
  },
  {
   "cell_type": "code",
   "execution_count": null,
   "id": "3e2fea7e",
   "metadata": {},
   "outputs": [],
   "source": []
  },
  {
   "cell_type": "code",
   "execution_count": null,
   "id": "1e75d01d",
   "metadata": {},
   "outputs": [],
   "source": []
  },
  {
   "cell_type": "code",
   "execution_count": null,
   "id": "66ce9b9d",
   "metadata": {},
   "outputs": [],
   "source": []
  },
  {
   "cell_type": "code",
   "execution_count": null,
   "id": "d7bd4757",
   "metadata": {},
   "outputs": [],
   "source": []
  },
  {
   "cell_type": "code",
   "execution_count": null,
   "id": "d14024d2",
   "metadata": {},
   "outputs": [],
   "source": []
  },
  {
   "cell_type": "code",
   "execution_count": null,
   "id": "873cf2ac",
   "metadata": {},
   "outputs": [],
   "source": []
  },
  {
   "cell_type": "code",
   "execution_count": null,
   "id": "8a696f09",
   "metadata": {},
   "outputs": [],
   "source": []
  },
  {
   "cell_type": "code",
   "execution_count": 31,
   "id": "8cf6e7e0",
   "metadata": {},
   "outputs": [
    {
     "name": "stdout",
     "output_type": "stream",
     "text": [
      "My ID is 1.\n",
      "------------------------------\n",
      "My ID is 2.\n",
      "------------------------------\n",
      "I am an Admin.\n",
      "My ID is 3.\n",
      "------------------------------\n",
      "User Info: \n",
      "Username: 3 \n",
      "Role: Admin\n",
      "------------------------------\n",
      "I am in charge.\n",
      "I am an Admin.\n",
      "My ID is 4.\n",
      "------------------------------\n",
      "User Info: \n",
      "Username: 4 \n",
      "Role: Admin\n",
      "------------------------------\n",
      "My ID is 5.\n",
      "------------------------------\n",
      "I am an Admin.\n",
      "My ID is 6.\n",
      "------------------------------\n",
      "I am in charge.\n",
      "I am an Admin.\n",
      "My ID is 7.\n",
      "------------------------------\n",
      "Employee with ID 1 added sucessfully!\n",
      "Employee with ID 2 added sucessfully!\n",
      "Employee with ID 3 added sucessfully!\n",
      "3\n"
     ]
    }
   ],
   "source": [
    "class Employee:\n",
    "    new_id = 1\n",
    "    \n",
    "    def __init__(self):\n",
    "        self.id = self.new_id\n",
    "        Employee.new_id += 1\n",
    "        \n",
    "    def say_id(self):\n",
    "        print(f\"My ID is {self.id}.\")\n",
    "        \n",
    "class User:\n",
    "    def __init__(self, username, role):\n",
    "        self.username = username\n",
    "        self.role = role\n",
    "    \n",
    "    def say_user_info(self):\n",
    "        print(f\"User Info: \\nUsername: {self.username} \\nRole: {self.role}\")\n",
    "        \n",
    "class Admin(Employee, User):\n",
    "    def __init__(self):\n",
    "        super().__init__()\n",
    "        User.__init__(self, self.id, \"Admin\")\n",
    "    \n",
    "    def say_id(self):\n",
    "        print(\"I am an Admin.\")\n",
    "        super().say_id()\n",
    "        \n",
    "class Manager(Admin):\n",
    "    def say_id(self):\n",
    "        print(\"I am in charge.\")\n",
    "        super().say_id()\n",
    "        \n",
    "class Meeting:\n",
    "    def __init__(self):\n",
    "        self.attendees = []\n",
    "        \n",
    "    def __add__(self, employee):\n",
    "        self.attendees.append(employee)        \n",
    "        print(f\"Employee with ID {employee.id} added sucessfully!\")\n",
    "    \n",
    "    def __len__(self):\n",
    "        return len(self.attendees)\n",
    "        \n",
    "        \n",
    "e1 = Employee()\n",
    "e2 = Employee()\n",
    "e3 = Admin()\n",
    "e4 = Manager()\n",
    "\n",
    "e1.say_id()\n",
    "print('-'*30)\n",
    "e2.say_id()\n",
    "print('-'*30)\n",
    "e3.say_id()\n",
    "print('-'*30)\n",
    "e3.say_user_info()\n",
    "print('-'*30)\n",
    "e4.say_id()\n",
    "print('-'*30)\n",
    "e4.say_user_info()\n",
    "print('-'*30)\n",
    "\n",
    "meeting = [Employee(), Admin(), Manager()]\n",
    "for attendee in meeting:\n",
    "    attendee.say_id()\n",
    "    print('-'*30)\n",
    "    \n",
    "m1 = Meeting()\n",
    "m1 + e1\n",
    "m1 + e2\n",
    "m1 + e3\n",
    "print(len(m1))"
   ]
  },
  {
   "cell_type": "code",
   "execution_count": null,
   "id": "dbfe7fee",
   "metadata": {},
   "outputs": [],
   "source": []
  }
 ],
 "metadata": {
  "kernelspec": {
   "display_name": "Python 3 (ipykernel)",
   "language": "python",
   "name": "python3"
  },
  "language_info": {
   "codemirror_mode": {
    "name": "ipython",
    "version": 3
   },
   "file_extension": ".py",
   "mimetype": "text/x-python",
   "name": "python",
   "nbconvert_exporter": "python",
   "pygments_lexer": "ipython3",
   "version": "3.10.9"
  }
 },
 "nbformat": 4,
 "nbformat_minor": 5
}
