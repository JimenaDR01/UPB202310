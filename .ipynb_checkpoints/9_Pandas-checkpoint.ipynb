{
 "cells": [
  {
   "cell_type": "code",
   "execution_count": 1,
   "id": "2061d19c",
   "metadata": {},
   "outputs": [],
   "source": [
    "import pandas as pd\n",
    "\n",
    "my_data = {\n",
    "    \"name\": [\"Joshua\", \"Camilo\", \"Santana\", \"Sebastián\", \"Jimena\"],\n",
    "    \"age\": [20, 19, 20, 19, 20],\n",
    "    \"height\": [180, 177, 169, 163, 159],\n",
    "    \"weight\": [78, 78, 68, 50, 60]\n",
    "}\n",
    "\n",
    "my_df = pd.DataFrame(my_data)"
   ]
  },
  {
   "cell_type": "code",
   "execution_count": 2,
   "id": "188712f5",
   "metadata": {},
   "outputs": [
    {
     "name": "stdout",
     "output_type": "stream",
     "text": [
      "             age      height     weight\n",
      "count   5.000000    5.000000   5.000000\n",
      "mean   19.600000  169.600000  66.800000\n",
      "std     0.547723    8.933085  12.049896\n",
      "min    19.000000  159.000000  50.000000\n",
      "25%    19.000000  163.000000  60.000000\n",
      "50%    20.000000  169.000000  68.000000\n",
      "75%    20.000000  177.000000  78.000000\n",
      "max    20.000000  180.000000  78.000000 \n",
      " ------------------------------ \n",
      "\n",
      "age        7.890227\n",
      "height    75.594215\n",
      "weight    28.534748\n",
      "dtype: float64 \n",
      " ------------------------------ \n",
      "\n",
      "7.89022726100791 \n",
      " ------------------------------ \n",
      "\n"
     ]
    }
   ],
   "source": [
    "print(my_df.describe(), '\\n', '-'*30, '\\n')\n",
    "print(my_df.describe().std(), '\\n', '-'*30, '\\n')\n",
    "print(my_df['age'].describe().std(), '\\n', '-'*30, '\\n')"
   ]
  },
  {
   "cell_type": "code",
   "execution_count": 3,
   "id": "1a9c16b0",
   "metadata": {},
   "outputs": [
    {
     "name": "stdout",
     "output_type": "stream",
     "text": [
      "<class 'pandas.core.frame.DataFrame'>\n"
     ]
    }
   ],
   "source": [
    "print(type(my_df.describe()))"
   ]
  },
  {
   "cell_type": "code",
   "execution_count": 4,
   "id": "2b8082c0",
   "metadata": {},
   "outputs": [
    {
     "data": {
      "text/html": [
       "<div>\n",
       "<style scoped>\n",
       "    .dataframe tbody tr th:only-of-type {\n",
       "        vertical-align: middle;\n",
       "    }\n",
       "\n",
       "    .dataframe tbody tr th {\n",
       "        vertical-align: top;\n",
       "    }\n",
       "\n",
       "    .dataframe thead th {\n",
       "        text-align: right;\n",
       "    }\n",
       "</style>\n",
       "<table border=\"1\" class=\"dataframe\">\n",
       "  <thead>\n",
       "    <tr style=\"text-align: right;\">\n",
       "      <th></th>\n",
       "      <th>uri</th>\n",
       "      <th>artist_names</th>\n",
       "      <th>track_name</th>\n",
       "      <th>peak_rank</th>\n",
       "      <th>weeks_on_chart</th>\n",
       "      <th>danceability</th>\n",
       "      <th>energy</th>\n",
       "      <th>key</th>\n",
       "      <th>loudness</th>\n",
       "      <th>mode</th>\n",
       "      <th>speechiness</th>\n",
       "      <th>acousticness</th>\n",
       "      <th>instrumentalness</th>\n",
       "      <th>liveness</th>\n",
       "      <th>tempo</th>\n",
       "      <th>time_signature</th>\n",
       "      <th>duration_ms</th>\n",
       "    </tr>\n",
       "  </thead>\n",
       "  <tbody>\n",
       "    <tr>\n",
       "      <th>0</th>\n",
       "      <td>spotify:track:02MWAaffLxlfxAUY7c5dvx</td>\n",
       "      <td>Glass Animals</td>\n",
       "      <td>Heat Waves</td>\n",
       "      <td>1</td>\n",
       "      <td>65</td>\n",
       "      <td>0.761</td>\n",
       "      <td>0.525</td>\n",
       "      <td>11</td>\n",
       "      <td>-6.900</td>\n",
       "      <td>1</td>\n",
       "      <td>0.0944</td>\n",
       "      <td>0.4400</td>\n",
       "      <td>0.000007</td>\n",
       "      <td>0.0921</td>\n",
       "      <td>80.870</td>\n",
       "      <td>4</td>\n",
       "      <td>238805</td>\n",
       "    </tr>\n",
       "    <tr>\n",
       "      <th>1</th>\n",
       "      <td>spotify:track:5PjdY0CKGZdEuoNab3yDmX</td>\n",
       "      <td>The Kid LAROI, Justin Bieber</td>\n",
       "      <td>STAY (with Justin Bieber)</td>\n",
       "      <td>1</td>\n",
       "      <td>37</td>\n",
       "      <td>0.591</td>\n",
       "      <td>0.764</td>\n",
       "      <td>1</td>\n",
       "      <td>-5.484</td>\n",
       "      <td>1</td>\n",
       "      <td>0.0483</td>\n",
       "      <td>0.0383</td>\n",
       "      <td>0.000000</td>\n",
       "      <td>0.1030</td>\n",
       "      <td>169.928</td>\n",
       "      <td>4</td>\n",
       "      <td>141806</td>\n",
       "    </tr>\n",
       "    <tr>\n",
       "      <th>2</th>\n",
       "      <td>spotify:track:3IAfUEeaXRX9s9UdKOJrFI</td>\n",
       "      <td>Anitta</td>\n",
       "      <td>Envolver</td>\n",
       "      <td>3</td>\n",
       "      <td>3</td>\n",
       "      <td>0.812</td>\n",
       "      <td>0.736</td>\n",
       "      <td>4</td>\n",
       "      <td>-5.421</td>\n",
       "      <td>0</td>\n",
       "      <td>0.0833</td>\n",
       "      <td>0.1520</td>\n",
       "      <td>0.002540</td>\n",
       "      <td>0.0914</td>\n",
       "      <td>91.993</td>\n",
       "      <td>4</td>\n",
       "      <td>193806</td>\n",
       "    </tr>\n",
       "    <tr>\n",
       "      <th>3</th>\n",
       "      <td>spotify:track:1HhNoOuqm1a5MXYEgAFl8o</td>\n",
       "      <td>Imagine Dragons, JID, Arcane, League of Legends</td>\n",
       "      <td>Enemy (with JID) - from the series Arcane Leag...</td>\n",
       "      <td>3</td>\n",
       "      <td>21</td>\n",
       "      <td>0.728</td>\n",
       "      <td>0.783</td>\n",
       "      <td>11</td>\n",
       "      <td>-4.424</td>\n",
       "      <td>0</td>\n",
       "      <td>0.2660</td>\n",
       "      <td>0.2370</td>\n",
       "      <td>0.000000</td>\n",
       "      <td>0.4340</td>\n",
       "      <td>77.011</td>\n",
       "      <td>4</td>\n",
       "      <td>173381</td>\n",
       "    </tr>\n",
       "    <tr>\n",
       "      <th>4</th>\n",
       "      <td>spotify:track:4fouWK6XVHhzl78KzQ1UjL</td>\n",
       "      <td>GAYLE</td>\n",
       "      <td>abcdefu</td>\n",
       "      <td>1</td>\n",
       "      <td>19</td>\n",
       "      <td>0.695</td>\n",
       "      <td>0.540</td>\n",
       "      <td>4</td>\n",
       "      <td>-5.692</td>\n",
       "      <td>1</td>\n",
       "      <td>0.0493</td>\n",
       "      <td>0.2990</td>\n",
       "      <td>0.000000</td>\n",
       "      <td>0.3670</td>\n",
       "      <td>121.932</td>\n",
       "      <td>4</td>\n",
       "      <td>168602</td>\n",
       "    </tr>\n",
       "  </tbody>\n",
       "</table>\n",
       "</div>"
      ],
      "text/plain": [
       "                                    uri  \\\n",
       "0  spotify:track:02MWAaffLxlfxAUY7c5dvx   \n",
       "1  spotify:track:5PjdY0CKGZdEuoNab3yDmX   \n",
       "2  spotify:track:3IAfUEeaXRX9s9UdKOJrFI   \n",
       "3  spotify:track:1HhNoOuqm1a5MXYEgAFl8o   \n",
       "4  spotify:track:4fouWK6XVHhzl78KzQ1UjL   \n",
       "\n",
       "                                      artist_names  \\\n",
       "0                                    Glass Animals   \n",
       "1                     The Kid LAROI, Justin Bieber   \n",
       "2                                           Anitta   \n",
       "3  Imagine Dragons, JID, Arcane, League of Legends   \n",
       "4                                            GAYLE   \n",
       "\n",
       "                                          track_name  peak_rank  \\\n",
       "0                                         Heat Waves          1   \n",
       "1                          STAY (with Justin Bieber)          1   \n",
       "2                                           Envolver          3   \n",
       "3  Enemy (with JID) - from the series Arcane Leag...          3   \n",
       "4                                            abcdefu          1   \n",
       "\n",
       "   weeks_on_chart  danceability  energy  key  loudness  mode  speechiness  \\\n",
       "0              65         0.761   0.525   11    -6.900     1       0.0944   \n",
       "1              37         0.591   0.764    1    -5.484     1       0.0483   \n",
       "2               3         0.812   0.736    4    -5.421     0       0.0833   \n",
       "3              21         0.728   0.783   11    -4.424     0       0.2660   \n",
       "4              19         0.695   0.540    4    -5.692     1       0.0493   \n",
       "\n",
       "   acousticness  instrumentalness  liveness    tempo  time_signature  \\\n",
       "0        0.4400          0.000007    0.0921   80.870               4   \n",
       "1        0.0383          0.000000    0.1030  169.928               4   \n",
       "2        0.1520          0.002540    0.0914   91.993               4   \n",
       "3        0.2370          0.000000    0.4340   77.011               4   \n",
       "4        0.2990          0.000000    0.3670  121.932               4   \n",
       "\n",
       "   duration_ms  \n",
       "0       238805  \n",
       "1       141806  \n",
       "2       193806  \n",
       "3       173381  \n",
       "4       168602  "
      ]
     },
     "execution_count": 4,
     "metadata": {},
     "output_type": "execute_result"
    }
   ],
   "source": [
    "spotify_df = pd.read_csv('spotify_top_charts_22.csv')\n",
    "spotify_df.head()"
   ]
  },
  {
   "cell_type": "code",
   "execution_count": 5,
   "id": "b10ef228",
   "metadata": {},
   "outputs": [
    {
     "data": {
      "text/plain": [
       "uri                  object\n",
       "artist_names         object\n",
       "track_name           object\n",
       "peak_rank             int64\n",
       "weeks_on_chart        int64\n",
       "danceability        float64\n",
       "energy              float64\n",
       "key                   int64\n",
       "loudness            float64\n",
       "mode                  int64\n",
       "speechiness         float64\n",
       "acousticness        float64\n",
       "instrumentalness    float64\n",
       "liveness            float64\n",
       "tempo               float64\n",
       "time_signature        int64\n",
       "duration_ms           int64\n",
       "dtype: object"
      ]
     },
     "execution_count": 5,
     "metadata": {},
     "output_type": "execute_result"
    }
   ],
   "source": [
    "spotify_df.dtypes"
   ]
  },
  {
   "cell_type": "code",
   "execution_count": 6,
   "id": "97585fa7",
   "metadata": {},
   "outputs": [
    {
     "name": "stdout",
     "output_type": "stream",
     "text": [
      "<class 'pandas.core.frame.DataFrame'>\n",
      "RangeIndex: 646 entries, 0 to 645\n",
      "Data columns (total 17 columns):\n",
      " #   Column            Non-Null Count  Dtype  \n",
      "---  ------            --------------  -----  \n",
      " 0   uri               646 non-null    object \n",
      " 1   artist_names      646 non-null    object \n",
      " 2   track_name        646 non-null    object \n",
      " 3   peak_rank         646 non-null    int64  \n",
      " 4   weeks_on_chart    646 non-null    int64  \n",
      " 5   danceability      646 non-null    float64\n",
      " 6   energy            646 non-null    float64\n",
      " 7   key               646 non-null    int64  \n",
      " 8   loudness          646 non-null    float64\n",
      " 9   mode              646 non-null    int64  \n",
      " 10  speechiness       646 non-null    float64\n",
      " 11  acousticness      646 non-null    float64\n",
      " 12  instrumentalness  646 non-null    float64\n",
      " 13  liveness          646 non-null    float64\n",
      " 14  tempo             646 non-null    float64\n",
      " 15  time_signature    646 non-null    int64  \n",
      " 16  duration_ms       646 non-null    int64  \n",
      "dtypes: float64(8), int64(6), object(3)\n",
      "memory usage: 85.9+ KB\n"
     ]
    }
   ],
   "source": [
    "spotify_df.info()"
   ]
  },
  {
   "cell_type": "code",
   "execution_count": 7,
   "id": "551dbedd",
   "metadata": {},
   "outputs": [
    {
     "name": "stdout",
     "output_type": "stream",
     "text": [
      "<class 'pandas.core.frame.DataFrame'>\n",
      "RangeIndex: 646 entries, 0 to 645\n",
      "Data columns (total 5 columns):\n",
      " #   Column          Non-Null Count  Dtype \n",
      "---  ------          --------------  ----- \n",
      " 0   artist_names    646 non-null    object\n",
      " 1   track_name      646 non-null    object\n",
      " 2   peak_rank       646 non-null    int64 \n",
      " 3   weeks_on_chart  646 non-null    int64 \n",
      " 4   duration_ms     646 non-null    int64 \n",
      "dtypes: int64(3), object(2)\n",
      "memory usage: 25.4+ KB\n"
     ]
    }
   ],
   "source": [
    "spotify_df_filtered_columns = spotify_df[['artist_names', 'track_name', 'peak_rank', 'weeks_on_chart', 'duration_ms']]\n",
    "spotify_df_filtered_columns.info()"
   ]
  },
  {
   "cell_type": "code",
   "execution_count": 8,
   "id": "57744838",
   "metadata": {},
   "outputs": [
    {
     "data": {
      "text/plain": [
       "array([  1,   3,   4,   5,   2,   8,   6,  11,  13,  14,  16,  18,  23,\n",
       "        21,  12,  17,  19,  31,   9,  29,  35,  39,   7,  44,  45,  32,\n",
       "        48,  36,  53,  57,  58,  61,  34,  63,  65,  38,  72,  74,  75,\n",
       "        50,  77,  69,  51,  52,  80,  10,  90,  67,  66,  55,  99,  24,\n",
       "        43, 106,  15,  37, 101,  33, 113,  68, 102,  92, 122, 123, 117,\n",
       "       127, 109, 112, 130, 111,  81, 136, 138, 128, 116, 152,  40,  98,\n",
       "       157,  60, 108, 165, 142,  42, 110,  83,  56, 104, 180, 149, 184,\n",
       "       186,  22, 189, 194, 174,  26,  28,  41,  30,  25,  78,  20,  86,\n",
       "        93, 103, 105,  54,  27, 121, 126, 114, 135, 129, 150, 161, 168,\n",
       "        64, 164, 100,  59,  46, 193, 198,  85,  96, 148, 140,  87, 124,\n",
       "        89,  79, 171,  70, 188, 191, 107,  91,  97, 115, 166, 133,  62,\n",
       "        95, 158, 173, 141, 131, 139, 181, 144, 119, 134, 155,  71,  82,\n",
       "       154, 167, 196, 183,  73,  76, 179, 143, 118, 151, 192, 125, 185,\n",
       "       197, 159, 187, 190, 175, 177, 178, 137, 163, 200,  49,  94, 146,\n",
       "       160], dtype=int64)"
      ]
     },
     "execution_count": 8,
     "metadata": {},
     "output_type": "execute_result"
    }
   ],
   "source": [
    "spotify_df_filtered_columns['peak_rank'].unique()"
   ]
  },
  {
   "cell_type": "code",
   "execution_count": 9,
   "id": "30f265e8",
   "metadata": {},
   "outputs": [
    {
     "name": "stdout",
     "output_type": "stream",
     "text": [
      "<class 'pandas.core.frame.DataFrame'>\n",
      "Int64Index: 121 entries, 0 to 639\n",
      "Data columns (total 5 columns):\n",
      " #   Column          Non-Null Count  Dtype \n",
      "---  ------          --------------  ----- \n",
      " 0   artist_names    121 non-null    object\n",
      " 1   track_name      121 non-null    object\n",
      " 2   peak_rank       121 non-null    int64 \n",
      " 3   weeks_on_chart  121 non-null    int64 \n",
      " 4   duration_ms     121 non-null    int64 \n",
      "dtypes: int64(3), object(2)\n",
      "memory usage: 5.7+ KB\n"
     ]
    }
   ],
   "source": [
    "spotify_df_filtered_columns_top_10 = spotify_df_filtered_columns[spotify_df_filtered_columns['peak_rank'] <= 10]\n",
    "spotify_df_filtered_columns_top_10.info()"
   ]
  },
  {
   "cell_type": "code",
   "execution_count": 10,
   "id": "2f88a623",
   "metadata": {},
   "outputs": [
    {
     "name": "stdout",
     "output_type": "stream",
     "text": [
      "<class 'pandas.core.frame.DataFrame'>\n",
      "Int64Index: 18 entries, 26 to 625\n",
      "Data columns (total 5 columns):\n",
      " #   Column          Non-Null Count  Dtype \n",
      "---  ------          --------------  ----- \n",
      " 0   artist_names    18 non-null     object\n",
      " 1   track_name      18 non-null     object\n",
      " 2   peak_rank       18 non-null     int64 \n",
      " 3   weeks_on_chart  18 non-null     int64 \n",
      " 4   duration_ms     18 non-null     int64 \n",
      "dtypes: int64(3), object(2)\n",
      "memory usage: 864.0+ bytes\n"
     ]
    }
   ],
   "source": [
    "spotify_df_filtered_columns_top_10_weeks_100 =spotify_df_filtered_columns_top_10[spotify_df_filtered_columns_top_10['weeks_on_chart'] >= 100]\n",
    "spotify_df_filtered_columns_top_10_weeks_100.info()"
   ]
  },
  {
   "cell_type": "code",
   "execution_count": 11,
   "id": "cc8dc707",
   "metadata": {
    "scrolled": true
   },
   "outputs": [
    {
     "data": {
      "text/html": [
       "<div>\n",
       "<style scoped>\n",
       "    .dataframe tbody tr th:only-of-type {\n",
       "        vertical-align: middle;\n",
       "    }\n",
       "\n",
       "    .dataframe tbody tr th {\n",
       "        vertical-align: top;\n",
       "    }\n",
       "\n",
       "    .dataframe thead th {\n",
       "        text-align: right;\n",
       "    }\n",
       "</style>\n",
       "<table border=\"1\" class=\"dataframe\">\n",
       "  <thead>\n",
       "    <tr style=\"text-align: right;\">\n",
       "      <th></th>\n",
       "      <th>artist_names</th>\n",
       "      <th>track_name</th>\n",
       "      <th>peak_rank</th>\n",
       "      <th>weeks_on_chart</th>\n",
       "      <th>duration_ms</th>\n",
       "    </tr>\n",
       "  </thead>\n",
       "  <tbody>\n",
       "    <tr>\n",
       "      <th>26</th>\n",
       "      <td>The Weeknd</td>\n",
       "      <td>Blinding Lights</td>\n",
       "      <td>1</td>\n",
       "      <td>121</td>\n",
       "      <td>200040</td>\n",
       "    </tr>\n",
       "    <tr>\n",
       "      <th>72</th>\n",
       "      <td>Harry Styles</td>\n",
       "      <td>Watermelon Sugar</td>\n",
       "      <td>4</td>\n",
       "      <td>123</td>\n",
       "      <td>174000</td>\n",
       "    </tr>\n",
       "    <tr>\n",
       "      <th>84</th>\n",
       "      <td>Dua Lipa</td>\n",
       "      <td>Don't Start Now</td>\n",
       "      <td>2</td>\n",
       "      <td>125</td>\n",
       "      <td>183290</td>\n",
       "    </tr>\n",
       "    <tr>\n",
       "      <th>93</th>\n",
       "      <td>Post Malone, Swae Lee</td>\n",
       "      <td>Sunflower - Spider-Man: Into the Spider-Verse</td>\n",
       "      <td>1</td>\n",
       "      <td>179</td>\n",
       "      <td>157560</td>\n",
       "    </tr>\n",
       "    <tr>\n",
       "      <th>106</th>\n",
       "      <td>Lewis Capaldi</td>\n",
       "      <td>Someone You Loved</td>\n",
       "      <td>4</td>\n",
       "      <td>168</td>\n",
       "      <td>182161</td>\n",
       "    </tr>\n",
       "    <tr>\n",
       "      <th>139</th>\n",
       "      <td>Ed Sheeran</td>\n",
       "      <td>Shape of You</td>\n",
       "      <td>1</td>\n",
       "      <td>269</td>\n",
       "      <td>233713</td>\n",
       "    </tr>\n",
       "    <tr>\n",
       "      <th>150</th>\n",
       "      <td>Ed Sheeran</td>\n",
       "      <td>Perfect</td>\n",
       "      <td>4</td>\n",
       "      <td>262</td>\n",
       "      <td>263400</td>\n",
       "    </tr>\n",
       "    <tr>\n",
       "      <th>158</th>\n",
       "      <td>Post Malone</td>\n",
       "      <td>Circles</td>\n",
       "      <td>1</td>\n",
       "      <td>134</td>\n",
       "      <td>215280</td>\n",
       "    </tr>\n",
       "    <tr>\n",
       "      <th>166</th>\n",
       "      <td>Tones And I</td>\n",
       "      <td>Dance Monkey</td>\n",
       "      <td>1</td>\n",
       "      <td>140</td>\n",
       "      <td>209438</td>\n",
       "    </tr>\n",
       "    <tr>\n",
       "      <th>177</th>\n",
       "      <td>Juice WRLD</td>\n",
       "      <td>Lucid Dreams</td>\n",
       "      <td>3</td>\n",
       "      <td>194</td>\n",
       "      <td>239836</td>\n",
       "    </tr>\n",
       "    <tr>\n",
       "      <th>189</th>\n",
       "      <td>The Chainsmokers, Coldplay</td>\n",
       "      <td>Something Just Like This</td>\n",
       "      <td>2</td>\n",
       "      <td>172</td>\n",
       "      <td>247160</td>\n",
       "    </tr>\n",
       "    <tr>\n",
       "      <th>194</th>\n",
       "      <td>Shawn Mendes, Camila Cabello</td>\n",
       "      <td>Señorita</td>\n",
       "      <td>1</td>\n",
       "      <td>138</td>\n",
       "      <td>190800</td>\n",
       "    </tr>\n",
       "    <tr>\n",
       "      <th>198</th>\n",
       "      <td>James Arthur</td>\n",
       "      <td>Say You Won't Let Go</td>\n",
       "      <td>7</td>\n",
       "      <td>268</td>\n",
       "      <td>211467</td>\n",
       "    </tr>\n",
       "    <tr>\n",
       "      <th>374</th>\n",
       "      <td>Lady Gaga, Bradley Cooper</td>\n",
       "      <td>Shallow</td>\n",
       "      <td>3</td>\n",
       "      <td>171</td>\n",
       "      <td>215733</td>\n",
       "    </tr>\n",
       "    <tr>\n",
       "      <th>388</th>\n",
       "      <td>Maroon 5</td>\n",
       "      <td>Memories</td>\n",
       "      <td>2</td>\n",
       "      <td>116</td>\n",
       "      <td>189486</td>\n",
       "    </tr>\n",
       "    <tr>\n",
       "      <th>441</th>\n",
       "      <td>Harry Styles</td>\n",
       "      <td>Adore You</td>\n",
       "      <td>6</td>\n",
       "      <td>104</td>\n",
       "      <td>207133</td>\n",
       "    </tr>\n",
       "    <tr>\n",
       "      <th>484</th>\n",
       "      <td>XXXTENTACION</td>\n",
       "      <td>Jocelyn Flores</td>\n",
       "      <td>7</td>\n",
       "      <td>216</td>\n",
       "      <td>119133</td>\n",
       "    </tr>\n",
       "    <tr>\n",
       "      <th>625</th>\n",
       "      <td>The Chainsmokers, Halsey</td>\n",
       "      <td>Closer</td>\n",
       "      <td>2</td>\n",
       "      <td>179</td>\n",
       "      <td>244960</td>\n",
       "    </tr>\n",
       "  </tbody>\n",
       "</table>\n",
       "</div>"
      ],
      "text/plain": [
       "                     artist_names  \\\n",
       "26                     The Weeknd   \n",
       "72                   Harry Styles   \n",
       "84                       Dua Lipa   \n",
       "93          Post Malone, Swae Lee   \n",
       "106                 Lewis Capaldi   \n",
       "139                    Ed Sheeran   \n",
       "150                    Ed Sheeran   \n",
       "158                   Post Malone   \n",
       "166                   Tones And I   \n",
       "177                    Juice WRLD   \n",
       "189    The Chainsmokers, Coldplay   \n",
       "194  Shawn Mendes, Camila Cabello   \n",
       "198                  James Arthur   \n",
       "374     Lady Gaga, Bradley Cooper   \n",
       "388                      Maroon 5   \n",
       "441                  Harry Styles   \n",
       "484                  XXXTENTACION   \n",
       "625      The Chainsmokers, Halsey   \n",
       "\n",
       "                                        track_name  peak_rank  weeks_on_chart  \\\n",
       "26                                 Blinding Lights          1             121   \n",
       "72                                Watermelon Sugar          4             123   \n",
       "84                                 Don't Start Now          2             125   \n",
       "93   Sunflower - Spider-Man: Into the Spider-Verse          1             179   \n",
       "106                              Someone You Loved          4             168   \n",
       "139                                   Shape of You          1             269   \n",
       "150                                        Perfect          4             262   \n",
       "158                                        Circles          1             134   \n",
       "166                                   Dance Monkey          1             140   \n",
       "177                                   Lucid Dreams          3             194   \n",
       "189                       Something Just Like This          2             172   \n",
       "194                                       Señorita          1             138   \n",
       "198                           Say You Won't Let Go          7             268   \n",
       "374                                        Shallow          3             171   \n",
       "388                                       Memories          2             116   \n",
       "441                                      Adore You          6             104   \n",
       "484                                 Jocelyn Flores          7             216   \n",
       "625                                         Closer          2             179   \n",
       "\n",
       "     duration_ms  \n",
       "26        200040  \n",
       "72        174000  \n",
       "84        183290  \n",
       "93        157560  \n",
       "106       182161  \n",
       "139       233713  \n",
       "150       263400  \n",
       "158       215280  \n",
       "166       209438  \n",
       "177       239836  \n",
       "189       247160  \n",
       "194       190800  \n",
       "198       211467  \n",
       "374       215733  \n",
       "388       189486  \n",
       "441       207133  \n",
       "484       119133  \n",
       "625       244960  "
      ]
     },
     "execution_count": 11,
     "metadata": {},
     "output_type": "execute_result"
    }
   ],
   "source": [
    "spotify_df_filtered_columns_top_10_weeks_100"
   ]
  },
  {
   "cell_type": "code",
   "execution_count": 12,
   "id": "c5ed1e68",
   "metadata": {},
   "outputs": [],
   "source": [
    "spotify_10_100 = spotify_df.loc[(spotify_df['peak_rank'] <= 10) & (spotify_df['weeks_on_chart'] >= 100),\n",
    "                                ['artist_names', 'track_name', 'duration_ms']]"
   ]
  },
  {
   "cell_type": "code",
   "execution_count": 13,
   "id": "e2b4e705",
   "metadata": {},
   "outputs": [
    {
     "name": "stdout",
     "output_type": "stream",
     "text": [
      "<class 'pandas.core.frame.DataFrame'>\n",
      "Int64Index: 18 entries, 26 to 625\n",
      "Data columns (total 3 columns):\n",
      " #   Column        Non-Null Count  Dtype \n",
      "---  ------        --------------  ----- \n",
      " 0   artist_names  18 non-null     object\n",
      " 1   track_name    18 non-null     object\n",
      " 2   duration_ms   18 non-null     int64 \n",
      "dtypes: int64(1), object(2)\n",
      "memory usage: 576.0+ bytes\n"
     ]
    }
   ],
   "source": [
    "spotify_10_100.info()"
   ]
  },
  {
   "cell_type": "code",
   "execution_count": 14,
   "id": "ce87213c",
   "metadata": {},
   "outputs": [],
   "source": [
    "x = spotify_10_100.describe().mean()"
   ]
  },
  {
   "cell_type": "code",
   "execution_count": 15,
   "id": "a8cf5a0a",
   "metadata": {},
   "outputs": [
    {
     "name": "stdout",
     "output_type": "stream",
     "text": [
      "duration_ms    2.593473\n",
      "dtype: float64\n"
     ]
    }
   ],
   "source": [
    "mean_mins = x / 60000\n",
    "print(mean_mins)"
   ]
  },
  {
   "cell_type": "markdown",
   "id": "4a54b946",
   "metadata": {},
   "source": [
    "## STATISTICS"
   ]
  },
  {
   "cell_type": "code",
   "execution_count": 16,
   "id": "a9d932df",
   "metadata": {},
   "outputs": [],
   "source": [
    "import pandas as pd"
   ]
  },
  {
   "cell_type": "code",
   "execution_count": 3,
   "id": "436ae934",
   "metadata": {},
   "outputs": [
    {
     "data": {
      "text/plain": [
       "Text(0, 0.5, 'Count')"
      ]
     },
     "execution_count": 3,
     "metadata": {},
     "output_type": "execute_result"
    },
    {
     "data": {
      "image/png": "[encoded data removed]",
      "text/plain": [
       "<Figure size 640x480 with 1 Axes>"
      ]
     },
     "metadata": {},
     "output_type": "display_data"
    }
   ],
   "source": [
    "import matplotlib.pyplot as plt\n",
    "import numpy as np\n",
    "import pandas as pd \n",
    "from scipy import stats\n",
    "\n",
    "greatest_books = pd.read_csv('top_hundred_books.csv')\n",
    "author_ages = greatest_books['Ages']\n",
    "\n",
    "average_age = np.average(author_ages)\n",
    "median_age = np.median(author_ages)\n",
    "mode_age = stats.mode(author_ages, keepdims = True)[0][0]\n",
    "std_age = np.std(author_ages)\n",
    "\n",
    "\n",
    "your_age = 31\n",
    "\n",
    "plt.hist(author_ages, range=(10,80), bins=14, edgecolor='black')\n",
    "plt.title(\"Author Ages at Publication\")\n",
    "plt.xlabel(\"Publication Age\")\n",
    "plt.ylabel(\"Count\")"
   ]
  },
  {
   "cell_type": "code",
   "execution_count": 4,
   "id": "32d7b7b5",
   "metadata": {},
   "outputs": [
    {
     "data": {
      "image/png": "[encoded data removed]",
      "text/plain": [
       "<Figure size 640x480 with 1 Axes>"
      ]
     },
     "metadata": {},
     "output_type": "display_data"
    }
   ],
   "source": [
    "import matplotlib.pyplot as plt\n",
    "\n",
    "data = [1, 2, 3, 4, 5]\n",
    "plt.boxplot(data)\n",
    "plt.show()"
   ]
  },
  {
   "cell_type": "code",
   "execution_count": 5,
   "id": "ee7f7f6f",
   "metadata": {},
   "outputs": [
    {
     "data": {
      "image/png": "[encoded data removed]",
      "text/plain": [
       "<Figure size 640x480 with 1 Axes>"
      ]
     },
     "metadata": {},
     "output_type": "display_data"
    }
   ],
   "source": [
    "import numpy as np \n",
    "import matplotlib.pyplot as plt\n",
    "np.random.seed(1)\n",
    "\n",
    "a = np.random.normal(1, 1, 1000)\n",
    "b = np.random.normal(0, 3, 1000)\n",
    "c = np.random.normal(2, 1.5, 1000)\n",
    "d = np.random.normal(-4, 5, 1000)\n",
    "e = np.random.normal(5, 2, 1000)\n",
    "plt.boxplot([a,b,c,d,e])\n",
    "plt.show()"
   ]
  },
  {
   "cell_type": "code",
   "execution_count": null,
   "id": "cffd548d",
   "metadata": {},
   "outputs": [],
   "source": []
  }
 ],
 "metadata": {
  "kernelspec": {
   "display_name": "Python 3 (ipykernel)",
   "language": "python",
   "name": "python3"
  },
  "language_info": {
   "codemirror_mode": {
    "name": "ipython",
    "version": 3
   },
   "file_extension": ".py",
   "mimetype": "text/x-python",
   "name": "python",
   "nbconvert_exporter": "python",
   "pygments_lexer": "ipython3",
   "version": "3.10.9"
  }
 },
 "nbformat": 4,
 "nbformat_minor": 5
}
