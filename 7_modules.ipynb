{
 "cells": [
  {
   "cell_type": "code",
   "execution_count": 1,
   "id": "dfce6d89",
   "metadata": {},
   "outputs": [
    {
     "name": "stdout",
     "output_type": "stream",
     "text": [
      "{'brand': 'Honda', 'model': 'CB', 'year': '2020', 'price': '4000000'}\n",
      "{'brand': 'Yamaha', 'model': 'R1', 'year': '2023', 'price': '80000000'}\n",
      "{'brand': 'KTM', 'model': 'Duke 200', 'year': '2023', 'price': '17000000'}\n",
      "{'brand': 'BMW,S1000R,2023,103000000', 'model': None, 'year': None, 'price': None}\n",
      "{'brand': 'BMW,S1000R,2023,103000000', 'model': None, 'year': None, 'price': None}\n",
      "{'brand': 'BMW,S1000R,2023,103000000', 'model': None, 'year': None, 'price': None}\n",
      "{'brand': 'BMW,S1000R,2023,103000000', 'model': None, 'year': None, 'price': None}\n"
     ]
    }
   ],
   "source": [
    "import csv\n",
    "\n",
    "with open(\"moto_data.csv\", newline='') as moto_data_csv:\n",
    "    moto_reader = csv.DictReader(moto_data_csv, delimiter=';')\n",
    "    for row in moto_reader:\n",
    "        print(row)"
   ]
  },
  {
   "cell_type": "code",
   "execution_count": 2,
   "id": "1051daa1",
   "metadata": {},
   "outputs": [
    {
     "ename": "TypeError",
     "evalue": "float() argument must be a string or a real number, not 'NoneType'",
     "output_type": "error",
     "traceback": [
      "\u001b[1;31m---------------------------------------------------------------------------\u001b[0m",
      "\u001b[1;31mTypeError\u001b[0m                                 Traceback (most recent call last)",
      "Cell \u001b[1;32mIn[2], line 6\u001b[0m\n\u001b[0;32m      4\u001b[0m     moto_reader \u001b[38;5;241m=\u001b[39m csv\u001b[38;5;241m.\u001b[39mDictReader(moto_data_csv, delimiter\u001b[38;5;241m=\u001b[39m\u001b[38;5;124m'\u001b[39m\u001b[38;5;124m;\u001b[39m\u001b[38;5;124m'\u001b[39m)\n\u001b[0;32m      5\u001b[0m     \u001b[38;5;28;01mfor\u001b[39;00m row \u001b[38;5;129;01min\u001b[39;00m moto_reader:\n\u001b[1;32m----> 6\u001b[0m         prices\u001b[38;5;241m.\u001b[39mappend(\u001b[38;5;28;43mfloat\u001b[39;49m\u001b[43m(\u001b[49m\u001b[43mrow\u001b[49m\u001b[43m[\u001b[49m\u001b[38;5;124;43m'\u001b[39;49m\u001b[38;5;124;43mprice\u001b[39;49m\u001b[38;5;124;43m'\u001b[39;49m\u001b[43m]\u001b[49m\u001b[43m)\u001b[49m)\n\u001b[0;32m      8\u001b[0m mean_price \u001b[38;5;241m=\u001b[39m \u001b[38;5;28msum\u001b[39m(prices)\u001b[38;5;241m/\u001b[39m\u001b[38;5;28mlen\u001b[39m(prices)\n\u001b[0;32m      9\u001b[0m min_price \u001b[38;5;241m=\u001b[39m \u001b[38;5;28mmin\u001b[39m(prices)\n",
      "\u001b[1;31mTypeError\u001b[0m: float() argument must be a string or a real number, not 'NoneType'"
     ]
    }
   ],
   "source": [
    "prices = []\n",
    "\n",
    "with open(\"moto_data.csv\", newline='') as moto_data_csv:\n",
    "    moto_reader = csv.DictReader(moto_data_csv, delimiter=';')\n",
    "    for row in moto_reader:\n",
    "        prices.append(float(row['price']))\n",
    "        \n",
    "mean_price = sum(prices)/len(prices)\n",
    "min_price = min(prices)\n",
    "max_price = max(prices)\n",
    "range_price = max_price - min_price"
   ]
  },
  {
   "cell_type": "code",
   "execution_count": 3,
   "id": "10ec4f27",
   "metadata": {},
   "outputs": [
    {
     "ename": "NameError",
     "evalue": "name 'mean_price' is not defined",
     "output_type": "error",
     "traceback": [
      "\u001b[1;31m---------------------------------------------------------------------------\u001b[0m",
      "\u001b[1;31mNameError\u001b[0m                                 Traceback (most recent call last)",
      "Cell \u001b[1;32mIn[3], line 2\u001b[0m\n\u001b[0;32m      1\u001b[0m my_analysis \u001b[38;5;241m=\u001b[39m \u001b[38;5;124mf\u001b[39m\u001b[38;5;124m\"\"\"\u001b[39m\u001b[38;5;124mMy Analysis:\u001b[39m\n\u001b[1;32m----> 2\u001b[0m \u001b[38;5;124mMoto Mean Price: $ \u001b[39m\u001b[38;5;132;01m{\u001b[39;00m\u001b[43mmean_price\u001b[49m\u001b[38;5;132;01m}\u001b[39;00m\n\u001b[0;32m      3\u001b[0m \u001b[38;5;124mMoto Min Price: $ \u001b[39m\u001b[38;5;132;01m{\u001b[39;00mmin_price\u001b[38;5;132;01m}\u001b[39;00m\n\u001b[0;32m      4\u001b[0m \u001b[38;5;124mMoto Max Price: $ \u001b[39m\u001b[38;5;132;01m{\u001b[39;00mmax_price\u001b[38;5;132;01m}\u001b[39;00m\n\u001b[0;32m      5\u001b[0m \u001b[38;5;124mRange Price: $ \u001b[39m\u001b[38;5;132;01m{\u001b[39;00mrange_price\u001b[38;5;132;01m}\u001b[39;00m\n\u001b[0;32m      6\u001b[0m \u001b[38;5;124m\"\"\"\u001b[39m\n\u001b[0;32m      7\u001b[0m \u001b[38;5;28mprint\u001b[39m(my_analysis)\n",
      "\u001b[1;31mNameError\u001b[0m: name 'mean_price' is not defined"
     ]
    }
   ],
   "source": [
    "my_analysis = f\"\"\"My Analysis:\n",
    "Moto Mean Price: $ {mean_price}\n",
    "Moto Min Price: $ {min_price}\n",
    "Moto Max Price: $ {max_price}\n",
    "Range Price: $ {range_price}\n",
    "\"\"\"\n",
    "print(my_analysis)"
   ]
  },
  {
   "cell_type": "code",
   "execution_count": 4,
   "id": "9ce94387",
   "metadata": {},
   "outputs": [
    {
     "ename": "NameError",
     "evalue": "name 'my_analysis' is not defined",
     "output_type": "error",
     "traceback": [
      "\u001b[1;31m---------------------------------------------------------------------------\u001b[0m",
      "\u001b[1;31mNameError\u001b[0m                                 Traceback (most recent call last)",
      "Cell \u001b[1;32mIn[4], line 2\u001b[0m\n\u001b[0;32m      1\u001b[0m \u001b[38;5;28;01mwith\u001b[39;00m \u001b[38;5;28mopen\u001b[39m(\u001b[38;5;124m\"\u001b[39m\u001b[38;5;124mmoto_data_analysis.txt\u001b[39m\u001b[38;5;124m\"\u001b[39m, \u001b[38;5;124m'\u001b[39m\u001b[38;5;124mw\u001b[39m\u001b[38;5;124m'\u001b[39m) \u001b[38;5;28;01mas\u001b[39;00m moto_analysis:\n\u001b[1;32m----> 2\u001b[0m     moto_analysis\u001b[38;5;241m.\u001b[39mwrite(\u001b[43mmy_analysis\u001b[49m)\n",
      "\u001b[1;31mNameError\u001b[0m: name 'my_analysis' is not defined"
     ]
    }
   ],
   "source": [
    "with open(\"moto_data_analysis.txt\", 'w') as moto_analysis:\n",
    "    moto_analysis.write(my_analysis)"
   ]
  },
  {
   "cell_type": "code",
   "execution_count": 5,
   "id": "02aea912",
   "metadata": {},
   "outputs": [],
   "source": [
    "with open(\"moto_data.csv\", \"a\", newline='') as moto_data:\n",
    "    fields = ['brand', 'model', 'year', 'price']\n",
    "    out_writer = csv.DictWriter(moto_data, fieldnames=fields)\n",
    "    out_writer.writerow({'brand': 'BMW', 'model': 'S1000R', 'year': '2023', 'price': '103000000'})   "
   ]
  },
  {
   "cell_type": "code",
   "execution_count": null,
   "id": "f16673dd",
   "metadata": {},
   "outputs": [],
   "source": []
  },
  {
   "cell_type": "code",
   "execution_count": 2,
   "id": "5dd0b887",
   "metadata": {},
   "outputs": [
    {
     "name": "stdout",
     "output_type": "stream",
     "text": [
      "<_io.TextIOWrapper name='moto_data.csv' mode='r' encoding='cp1252'>\n"
     ]
    }
   ],
   "source": [
    "x = open(\"moto_data.csv\")\n",
    "print(x)\n",
    "x.close()"
   ]
  },
  {
   "cell_type": "code",
   "execution_count": null,
   "id": "6fb46612",
   "metadata": {},
   "outputs": [],
   "source": []
  },
  {
   "cell_type": "code",
   "execution_count": null,
   "id": "3e6d4247",
   "metadata": {},
   "outputs": [],
   "source": []
  },
  {
   "cell_type": "code",
   "execution_count": null,
   "id": "d9348502",
   "metadata": {},
   "outputs": [],
   "source": []
  },
  {
   "cell_type": "code",
   "execution_count": null,
   "id": "64b1cfe5",
   "metadata": {},
   "outputs": [],
   "source": []
  }
 ],
 "metadata": {
  "kernelspec": {
   "display_name": "Python 3 (ipykernel)",
   "language": "python",
   "name": "python3"
  },
  "language_info": {
   "codemirror_mode": {
    "name": "ipython",
    "version": 3
   },
   "file_extension": ".py",
   "mimetype": "text/x-python",
   "name": "python",
   "nbconvert_exporter": "python",
   "pygments_lexer": "ipython3",
   "version": "3.10.9"
  }
 },
 "nbformat": 4,
 "nbformat_minor": 5
}
